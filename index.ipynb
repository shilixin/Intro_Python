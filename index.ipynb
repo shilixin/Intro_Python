{
 "cells": [
  {
   "cell_type": "markdown",
   "metadata": {},
   "source": [
    "# Python for Combining Multiple Excel Worksheets from a Workbook into One Sheet\n",
    "\n"
   ]
  },
  {
   "cell_type": "markdown",
   "metadata": {},
   "source": [
    "The purpouse of this little python codes is to combine/merge all the worksheets from one Excel file and export the result to another Excel file for our scripts. "
   ]
  },
  {
   "cell_type": "markdown",
   "metadata": {},
   "source": [
    "## Instruction:\n",
    " \n",
    "1) There are two folders on the left: menu : Input folder for your scripts and Output folder for Master file after you run the codes. First of all, you may upload your scripts Excel file to the Input folder. ( note: Your excel script file : one worksheet for one script) \n",
    "\n",
    "2)  Please change the Input file name (PT_Scripts.xlsx) as your excel scripts’ file name. Then you click the run button (play) from the top menu; \n",
    "\n",
    "3) After the Step 2, please click the Output folder, you will see the Masters.xlsx file. Using the mouse left button, you can click “Open in the New Browser Tab” (Download button disabled) , it will open Masters.xlsx file, You can save it locally. In Sheet 1, it combines all the worksheets from Your Scripts excel file from the Input folder. Then you can format the Sheet 1 locally (wrap Text/ Alignment columns ). It only takes seconds to run. \n"
   ]
  },
  {
   "cell_type": "code",
   "execution_count": 1,
   "metadata": {},
   "outputs": [
    {
     "name": "stdout",
     "output_type": "stream",
     "text": [
      "The names of worksheets are following: \n",
      "\n",
      "1    PT-RIB-102721_01\n",
      "2    PT-RIB-102721_02\n",
      "3    PT-RIB-102721_03\n",
      "4    PT-RIB-102721_04\n",
      "5    PT-RIB-102721_05\n",
      "6    PT-RIB-102721_06\n",
      "7    PT-RIB-110364_01\n",
      "8    PT-RIB-110364_02\n",
      "9    PT-RIB-110364_03\n",
      "10    PT-RIB-110364_04\n",
      "11    PT-RIB-110364_05\n",
      "12    PT-RIB-110364_06\n",
      "13    PT-RIB-110364_07\n",
      "14    PT-RIB-110364_08\n",
      "15    PT-RIB-110364_09\n",
      "16    PT-RIB-80133_01\n",
      "17    PT-RIB-80133_02\n",
      "18    PT-RIB-80133_03\n",
      "19    PT-RIB-80133_04\n",
      "20    PT-RIB-80133_05\n",
      "21    PT-RIB-80133_06\n",
      "22    PT-RIB-80133_07\n",
      "23    PT-RIB-80495_01\n",
      "24    PT-RIB-80495_02\n",
      "25    PT-RIB-80495_3\n",
      "26    PT-RIB-80495_04\n",
      "27    PT-RIB-80495_05\n",
      "\n",
      "The number of worksheets from Excel file:  27\n"
     ]
    }
   ],
   "source": [
    "# Merging Workseets from a Workbook and Output them to Masters.xlsx.\n",
    "import numpy as np\n",
    "import pandas as pd\n",
    "import xlrd as xd\n",
    "# import numpy as np\n",
    "# from os.path  import basename\n",
    "from pandas import DataFrame\n",
    "\n",
    "df = []\n",
    "f = pd.ExcelFile(\"Input/PT_Scripts.xlsx\")\n",
    "result = pd.ExcelFile(\"Output/Masters.xlsx\")\n",
    "\n",
    "print(\"The names of worksheets are following: \\n\")\n",
    "w = f.sheet_names\n",
    "for i in range(len(w)):\n",
    "    print (i+1, end = \"    \") \n",
    "    print (w[i])\n",
    "\n",
    "#print(len(f.sheet_names))\n",
    "print(\"\\nThe number of worksheets from Excel file: \", len(f.sheet_names))\n",
    "numberOfSheets = len(f.sheet_names)\n",
    "\n",
    "# Combine Worksheets from an Excel File\n",
    "for i in range(0, numberOfSheets):\n",
    "    data = pd.read_excel(f, f.sheet_names[i], index_col=0, index_row=0)\n",
    "    df.append(data)\n",
    "\n",
    "# print(df[0])\n",
    "df = pd.concat(df,sort=False)\n",
    "df.to_excel(result)"
   ]
  },
  {
   "cell_type": "code",
   "execution_count": null,
   "metadata": {},
   "outputs": [],
   "source": []
  }
 ],
 "metadata": {
  "kernelspec": {
   "display_name": "Python 3",
   "language": "python",
   "name": "python3"
  },
  "language_info": {
   "codemirror_mode": {
    "name": "ipython",
    "version": 3
   },
   "file_extension": ".py",
   "mimetype": "text/x-python",
   "name": "python",
   "nbconvert_exporter": "python",
   "pygments_lexer": "ipython3",
   "version": "3.7.3"
  }
 },
 "nbformat": 4,
 "nbformat_minor": 2
}
